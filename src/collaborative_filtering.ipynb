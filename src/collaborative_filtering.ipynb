{
 "cells": [
  {
   "cell_type": "code",
   "execution_count": 1,
   "metadata": {},
   "outputs": [],
   "source": [
    "import csv\n",
    "import numpy as np\n",
    "import pandas as pd\n",
    "import matplotlib.pyplot as plt"
   ]
  },
  {
   "cell_type": "code",
   "execution_count": 2,
   "metadata": {},
   "outputs": [
    {
     "name": "stdout",
     "output_type": "stream",
     "text": [
      "User      4419\n",
      "Book      1200\n",
      "Rate         6\n",
      "Time    634776\n",
      "Tag      59960\n",
      "dtype: int64\n",
      "User       1023\n",
      "Movie      1200\n",
      "Rate          6\n",
      "Time     712198\n",
      "Tag      110708\n",
      "dtype: int64\n"
     ]
    }
   ],
   "source": [
    "book_path = '../data/book_score.csv'\n",
    "movie_path = '../data/movie_score.csv'\n",
    "book_df = pd.read_csv(book_path, encoding='utf-8')\n",
    "movie_df = pd.read_csv(movie_path, encoding='utf-8')\n",
    "book_df.head()\n",
    "print(book_df.nunique())\n",
    "print(movie_df.nunique())"
   ]
  },
  {
   "cell_type": "code",
   "execution_count": 3,
   "metadata": {},
   "outputs": [
    {
     "name": "stdout",
     "output_type": "stream",
     "text": [
      "Rate\n",
      "0    233447\n",
      "4    165052\n",
      "5    131574\n",
      "3     92447\n",
      "2     11296\n",
      "1      3438\n",
      "Name: count, dtype: int64\n"
     ]
    }
   ],
   "source": [
    "# print(movie_df[movie_df[\"Rate\"] == 0].nunique())\n",
    "print(book_df[\"Rate\"].value_counts())"
   ]
  },
  {
   "cell_type": "code",
   "execution_count": 4,
   "metadata": {},
   "outputs": [
    {
     "name": "stdout",
     "output_type": "stream",
     "text": [
      "Rate\n",
      "4    203661\n",
      "3    162926\n",
      "5    115492\n",
      "2     32510\n",
      "1      9059\n",
      "Name: count, dtype: int64\n"
     ]
    }
   ],
   "source": [
    "book_df.rename(columns={'Book': 'Item'}, inplace=True)\n",
    "movie_df.rename(columns={'Movie': 'Item'}, inplace=True)\n",
    "\n",
    "book_df.drop(book_df[book_df[\"Rate\"] == 0].index, inplace=True)\n",
    "movie_df.drop(movie_df[movie_df[\"Rate\"] == 0].index, inplace=True)\n",
    "\n",
    "print(movie_df[\"Rate\"].value_counts())"
   ]
  },
  {
   "cell_type": "code",
   "execution_count": 5,
   "metadata": {},
   "outputs": [],
   "source": [
    "from sklearn.model_selection import train_test_split\n",
    "data = movie_df\n",
    "train_data, test_data = train_test_split(data, test_size=0.5, random_state=19260817)"
   ]
  },
  {
   "cell_type": "code",
   "execution_count": 6,
   "metadata": {},
   "outputs": [
    {
     "data": {
      "text/plain": [
       "User\n",
       "1000068    3.157895\n",
       "1000174    3.324324\n",
       "1000263    2.000000\n",
       "1000905    4.206751\n",
       "1001093    3.709571\n",
       "dtype: float64"
      ]
     },
     "execution_count": 6,
     "metadata": {},
     "output_type": "execute_result"
    }
   ],
   "source": [
    "matrix = train_data.pivot_table(index='User', columns='Item', values='Rate')\n",
    "user_mean = matrix.mean(axis=1)\n",
    "matrix = matrix.subtract(matrix.mean(axis=1), axis = \"rows\")\n",
    "user_mean.head()"
   ]
  },
  {
   "cell_type": "code",
   "execution_count": 7,
   "metadata": {},
   "outputs": [
    {
     "data": {
      "text/html": [
       "<div>\n",
       "<style scoped>\n",
       "    .dataframe tbody tr th:only-of-type {\n",
       "        vertical-align: middle;\n",
       "    }\n",
       "\n",
       "    .dataframe tbody tr th {\n",
       "        vertical-align: top;\n",
       "    }\n",
       "\n",
       "    .dataframe thead th {\n",
       "        text-align: right;\n",
       "    }\n",
       "</style>\n",
       "<table border=\"1\" class=\"dataframe\">\n",
       "  <thead>\n",
       "    <tr style=\"text-align: right;\">\n",
       "      <th>User</th>\n",
       "      <th>1000068</th>\n",
       "      <th>1000174</th>\n",
       "      <th>1000263</th>\n",
       "      <th>1000905</th>\n",
       "      <th>1001093</th>\n",
       "      <th>1002057</th>\n",
       "      <th>1002987</th>\n",
       "      <th>1003080</th>\n",
       "      <th>1004613</th>\n",
       "      <th>1005928</th>\n",
       "      <th>...</th>\n",
       "      <th>36855984</th>\n",
       "      <th>37829070</th>\n",
       "      <th>39742649</th>\n",
       "      <th>42444500</th>\n",
       "      <th>43828497</th>\n",
       "      <th>44605628</th>\n",
       "      <th>45987769</th>\n",
       "      <th>46788722</th>\n",
       "      <th>48190738</th>\n",
       "      <th>48360271</th>\n",
       "    </tr>\n",
       "    <tr>\n",
       "      <th>User</th>\n",
       "      <th></th>\n",
       "      <th></th>\n",
       "      <th></th>\n",
       "      <th></th>\n",
       "      <th></th>\n",
       "      <th></th>\n",
       "      <th></th>\n",
       "      <th></th>\n",
       "      <th></th>\n",
       "      <th></th>\n",
       "      <th></th>\n",
       "      <th></th>\n",
       "      <th></th>\n",
       "      <th></th>\n",
       "      <th></th>\n",
       "      <th></th>\n",
       "      <th></th>\n",
       "      <th></th>\n",
       "      <th></th>\n",
       "      <th></th>\n",
       "      <th></th>\n",
       "    </tr>\n",
       "  </thead>\n",
       "  <tbody>\n",
       "    <tr>\n",
       "      <th>1000068</th>\n",
       "      <td>1.000000</td>\n",
       "      <td>0.801784</td>\n",
       "      <td>NaN</td>\n",
       "      <td>0.586302</td>\n",
       "      <td>0.229416</td>\n",
       "      <td>0.353553</td>\n",
       "      <td>0.942809</td>\n",
       "      <td>0.811666</td>\n",
       "      <td>0.976187</td>\n",
       "      <td>0.528694</td>\n",
       "      <td>...</td>\n",
       "      <td>0.443203</td>\n",
       "      <td>NaN</td>\n",
       "      <td>NaN</td>\n",
       "      <td>0.216930</td>\n",
       "      <td>NaN</td>\n",
       "      <td>0.800132</td>\n",
       "      <td>0.343522</td>\n",
       "      <td>NaN</td>\n",
       "      <td>NaN</td>\n",
       "      <td>NaN</td>\n",
       "    </tr>\n",
       "    <tr>\n",
       "      <th>1000174</th>\n",
       "      <td>0.801784</td>\n",
       "      <td>1.000000</td>\n",
       "      <td>NaN</td>\n",
       "      <td>0.251527</td>\n",
       "      <td>0.459860</td>\n",
       "      <td>0.365693</td>\n",
       "      <td>0.122703</td>\n",
       "      <td>0.427518</td>\n",
       "      <td>0.468670</td>\n",
       "      <td>0.488585</td>\n",
       "      <td>...</td>\n",
       "      <td>0.610025</td>\n",
       "      <td>0.517855</td>\n",
       "      <td>0.052414</td>\n",
       "      <td>0.540931</td>\n",
       "      <td>0.152075</td>\n",
       "      <td>0.442632</td>\n",
       "      <td>0.224569</td>\n",
       "      <td>NaN</td>\n",
       "      <td>NaN</td>\n",
       "      <td>NaN</td>\n",
       "    </tr>\n",
       "    <tr>\n",
       "      <th>1000263</th>\n",
       "      <td>NaN</td>\n",
       "      <td>NaN</td>\n",
       "      <td>NaN</td>\n",
       "      <td>NaN</td>\n",
       "      <td>NaN</td>\n",
       "      <td>NaN</td>\n",
       "      <td>NaN</td>\n",
       "      <td>NaN</td>\n",
       "      <td>NaN</td>\n",
       "      <td>NaN</td>\n",
       "      <td>...</td>\n",
       "      <td>NaN</td>\n",
       "      <td>NaN</td>\n",
       "      <td>NaN</td>\n",
       "      <td>NaN</td>\n",
       "      <td>NaN</td>\n",
       "      <td>NaN</td>\n",
       "      <td>NaN</td>\n",
       "      <td>NaN</td>\n",
       "      <td>NaN</td>\n",
       "      <td>NaN</td>\n",
       "    </tr>\n",
       "    <tr>\n",
       "      <th>1000905</th>\n",
       "      <td>0.586302</td>\n",
       "      <td>0.251527</td>\n",
       "      <td>NaN</td>\n",
       "      <td>1.000000</td>\n",
       "      <td>0.297081</td>\n",
       "      <td>0.108776</td>\n",
       "      <td>-0.034857</td>\n",
       "      <td>0.484901</td>\n",
       "      <td>0.358721</td>\n",
       "      <td>0.339228</td>\n",
       "      <td>...</td>\n",
       "      <td>0.234768</td>\n",
       "      <td>0.015103</td>\n",
       "      <td>0.208514</td>\n",
       "      <td>0.201591</td>\n",
       "      <td>0.368928</td>\n",
       "      <td>0.195698</td>\n",
       "      <td>0.313480</td>\n",
       "      <td>NaN</td>\n",
       "      <td>NaN</td>\n",
       "      <td>NaN</td>\n",
       "    </tr>\n",
       "    <tr>\n",
       "      <th>1001093</th>\n",
       "      <td>0.229416</td>\n",
       "      <td>0.459860</td>\n",
       "      <td>NaN</td>\n",
       "      <td>0.297081</td>\n",
       "      <td>1.000000</td>\n",
       "      <td>0.396934</td>\n",
       "      <td>0.259053</td>\n",
       "      <td>0.284640</td>\n",
       "      <td>0.385643</td>\n",
       "      <td>0.235780</td>\n",
       "      <td>...</td>\n",
       "      <td>0.500564</td>\n",
       "      <td>0.140963</td>\n",
       "      <td>-0.345485</td>\n",
       "      <td>0.118630</td>\n",
       "      <td>0.200944</td>\n",
       "      <td>0.366021</td>\n",
       "      <td>0.468643</td>\n",
       "      <td>NaN</td>\n",
       "      <td>NaN</td>\n",
       "      <td>0.0</td>\n",
       "    </tr>\n",
       "  </tbody>\n",
       "</table>\n",
       "<p>5 rows × 1011 columns</p>\n",
       "</div>"
      ],
      "text/plain": [
       "User     1000068   1000174   1000263   1000905   1001093   1002057   1002987   \\\n",
       "User                                                                            \n",
       "1000068  1.000000  0.801784       NaN  0.586302  0.229416  0.353553  0.942809   \n",
       "1000174  0.801784  1.000000       NaN  0.251527  0.459860  0.365693  0.122703   \n",
       "1000263       NaN       NaN       NaN       NaN       NaN       NaN       NaN   \n",
       "1000905  0.586302  0.251527       NaN  1.000000  0.297081  0.108776 -0.034857   \n",
       "1001093  0.229416  0.459860       NaN  0.297081  1.000000  0.396934  0.259053   \n",
       "\n",
       "User     1003080   1004613   1005928   ...  36855984  37829070  39742649  \\\n",
       "User                                   ...                                 \n",
       "1000068  0.811666  0.976187  0.528694  ...  0.443203       NaN       NaN   \n",
       "1000174  0.427518  0.468670  0.488585  ...  0.610025  0.517855  0.052414   \n",
       "1000263       NaN       NaN       NaN  ...       NaN       NaN       NaN   \n",
       "1000905  0.484901  0.358721  0.339228  ...  0.234768  0.015103  0.208514   \n",
       "1001093  0.284640  0.385643  0.235780  ...  0.500564  0.140963 -0.345485   \n",
       "\n",
       "User     42444500  43828497  44605628  45987769  46788722  48190738  48360271  \n",
       "User                                                                           \n",
       "1000068  0.216930       NaN  0.800132  0.343522       NaN       NaN       NaN  \n",
       "1000174  0.540931  0.152075  0.442632  0.224569       NaN       NaN       NaN  \n",
       "1000263       NaN       NaN       NaN       NaN       NaN       NaN       NaN  \n",
       "1000905  0.201591  0.368928  0.195698  0.313480       NaN       NaN       NaN  \n",
       "1001093  0.118630  0.200944  0.366021  0.468643       NaN       NaN       0.0  \n",
       "\n",
       "[5 rows x 1011 columns]"
      ]
     },
     "execution_count": 7,
     "metadata": {},
     "output_type": "execute_result"
    }
   ],
   "source": [
    "user_similarity = matrix.T.corr(method=\"pearson\")\n",
    "user_similarity.head()"
   ]
  },
  {
   "cell_type": "code",
   "execution_count": 51,
   "metadata": {},
   "outputs": [],
   "source": [
    "# use the similarity matrix to predict the user's rating for an item\n",
    "similar_users_storage = dict()\n",
    "def predict(user, item, similarity_threshold = 0.5, similar_users_num = 30):\n",
    "    if(user not in matrix.index):\n",
    "        return user_mean.mean()\n",
    "        \n",
    "    user_rating = matrix.loc[user, item]\n",
    "    if np.isnan(user_rating):\n",
    "\n",
    "        item_rating = matrix[item]\n",
    "        item_rating = item_rating.dropna()\n",
    "\n",
    "        if(similar_users_storage.get(user) is None):\n",
    "            similar_users = user_similarity[user].dropna()\n",
    "            similar_users = similar_users[similar_users > similarity_threshold]\n",
    "            similar_users = similar_users.sort_values(ascending=False)\n",
    "            similar_users_storage[user] = similar_users\n",
    "        else:\n",
    "            similar_users = similar_users_storage[user]\n",
    "        \n",
    "        # Only consider similar users who have rated the item\n",
    "        common_users = list(set(similar_users.index).intersection(set(item_rating.index)))\n",
    "        common_users.sort(key = lambda x: similar_users[x], reverse=True)\n",
    "        \n",
    "        common_users = common_users[:similar_users_num if len(common_users) > similar_users_num else len(common_users)]\n",
    "        item_rating = item_rating.loc[common_users]\n",
    "\n",
    "        if len(item_rating) == 0:\n",
    "            return user_mean[user]\n",
    "        else:\n",
    "            return item_rating.mean() + user_mean[user]\n",
    "    else:\n",
    "        return user_rating"
   ]
  },
  {
   "cell_type": "code",
   "execution_count": 9,
   "metadata": {},
   "outputs": [],
   "source": [
    "from sklearn.metrics import ndcg_score\n",
    "def compute_ndcg(group):\n",
    "    true_ratings = group['true_rating'].tolist()\n",
    "    pred_ratings = group['predict_rating'].tolist()\n",
    "    return ndcg_score([true_ratings], [pred_ratings], k = 50)"
   ]
  },
  {
   "cell_type": "code",
   "execution_count": 54,
   "metadata": {},
   "outputs": [
    {
     "data": {
      "application/vnd.jupyter.widget-view+json": {
       "model_id": "d8fe68620c6d4e88ab7e00e89a1de6ec",
       "version_major": 2,
       "version_minor": 0
      },
      "text/plain": [
       "0it [00:00, ?it/s]"
      ]
     },
     "metadata": {},
     "output_type": "display_data"
    },
    {
     "ename": "KeyboardInterrupt",
     "evalue": "",
     "output_type": "error",
     "traceback": [
      "\u001b[1;31m---------------------------------------------------------------------------\u001b[0m",
      "\u001b[1;31mKeyboardInterrupt\u001b[0m                         Traceback (most recent call last)",
      "\u001b[1;32mc:\\Users\\zox\\Code\\web\\2023fall-WebLab\\src\\collaborative_filtering.ipynb 单元格 10\u001b[0m line \u001b[0;36m5\n\u001b[0;32m      <a href='vscode-notebook-cell:/c%3A/Users/zox/Code/web/2023fall-WebLab/src/collaborative_filtering.ipynb#X12sZmlsZQ%3D%3D?line=1'>2</a>\u001b[0m predict_rating \u001b[39m=\u001b[39m []\n\u001b[0;32m      <a href='vscode-notebook-cell:/c%3A/Users/zox/Code/web/2023fall-WebLab/src/collaborative_filtering.ipynb#X12sZmlsZQ%3D%3D?line=2'>3</a>\u001b[0m \u001b[39mfor\u001b[39;00m idx, (user, item, true_rating, time, tag) \u001b[39min\u001b[39;00m tqdm(test_data\u001b[39m.\u001b[39miterrows()):\n\u001b[0;32m      <a href='vscode-notebook-cell:/c%3A/Users/zox/Code/web/2023fall-WebLab/src/collaborative_filtering.ipynb#X12sZmlsZQ%3D%3D?line=3'>4</a>\u001b[0m     \u001b[39m# print(user, item, true_rating, time, tag)\u001b[39;00m\n\u001b[1;32m----> <a href='vscode-notebook-cell:/c%3A/Users/zox/Code/web/2023fall-WebLab/src/collaborative_filtering.ipynb#X12sZmlsZQ%3D%3D?line=4'>5</a>\u001b[0m     predict_rating\u001b[39m.\u001b[39mappend(predict(user, item, similarity_threshold\u001b[39m=\u001b[39;49m\u001b[39m0.4\u001b[39;49m, similar_users_num\u001b[39m=\u001b[39;49m\u001b[39m30\u001b[39;49m))\n\u001b[0;32m      <a href='vscode-notebook-cell:/c%3A/Users/zox/Code/web/2023fall-WebLab/src/collaborative_filtering.ipynb#X12sZmlsZQ%3D%3D?line=5'>6</a>\u001b[0m     \u001b[39m# print(true_rating, predict_rating)\u001b[39;00m\n\u001b[0;32m      <a href='vscode-notebook-cell:/c%3A/Users/zox/Code/web/2023fall-WebLab/src/collaborative_filtering.ipynb#X12sZmlsZQ%3D%3D?line=7'>8</a>\u001b[0m results_df \u001b[39m=\u001b[39m pd\u001b[39m.\u001b[39mDataFrame({\u001b[39m'\u001b[39m\u001b[39muser\u001b[39m\u001b[39m'\u001b[39m: test_data[\u001b[39m'\u001b[39m\u001b[39mUser\u001b[39m\u001b[39m'\u001b[39m], \u001b[39m'\u001b[39m\u001b[39mtrue_rating\u001b[39m\u001b[39m'\u001b[39m: test_data[\u001b[39m'\u001b[39m\u001b[39mRate\u001b[39m\u001b[39m'\u001b[39m], \u001b[39m'\u001b[39m\u001b[39mpredict_rating\u001b[39m\u001b[39m'\u001b[39m: predict_rating})\n",
      "\u001b[1;32mc:\\Users\\zox\\Code\\web\\2023fall-WebLab\\src\\collaborative_filtering.ipynb 单元格 10\u001b[0m line \u001b[0;36m1\n\u001b[0;32m      <a href='vscode-notebook-cell:/c%3A/Users/zox/Code/web/2023fall-WebLab/src/collaborative_filtering.ipynb#X12sZmlsZQ%3D%3D?line=7'>8</a>\u001b[0m \u001b[39mif\u001b[39;00m np\u001b[39m.\u001b[39misnan(user_rating):\n\u001b[0;32m     <a href='vscode-notebook-cell:/c%3A/Users/zox/Code/web/2023fall-WebLab/src/collaborative_filtering.ipynb#X12sZmlsZQ%3D%3D?line=9'>10</a>\u001b[0m     item_rating \u001b[39m=\u001b[39m matrix[item]\n\u001b[1;32m---> <a href='vscode-notebook-cell:/c%3A/Users/zox/Code/web/2023fall-WebLab/src/collaborative_filtering.ipynb#X12sZmlsZQ%3D%3D?line=10'>11</a>\u001b[0m     item_rating \u001b[39m=\u001b[39m item_rating\u001b[39m.\u001b[39;49mdropna()\n\u001b[0;32m     <a href='vscode-notebook-cell:/c%3A/Users/zox/Code/web/2023fall-WebLab/src/collaborative_filtering.ipynb#X12sZmlsZQ%3D%3D?line=12'>13</a>\u001b[0m     \u001b[39mif\u001b[39;00m(similar_users_storage\u001b[39m.\u001b[39mget(user) \u001b[39mis\u001b[39;00m \u001b[39mNone\u001b[39;00m):\n\u001b[0;32m     <a href='vscode-notebook-cell:/c%3A/Users/zox/Code/web/2023fall-WebLab/src/collaborative_filtering.ipynb#X12sZmlsZQ%3D%3D?line=13'>14</a>\u001b[0m         similar_users \u001b[39m=\u001b[39m user_similarity[user]\u001b[39m.\u001b[39mdropna()\n",
      "File \u001b[1;32mc:\\Users\\zox\\AppData\\Local\\Programs\\Python\\Python311\\Lib\\site-packages\\pandas\\core\\series.py:5605\u001b[0m, in \u001b[0;36mSeries.dropna\u001b[1;34m(self, axis, inplace, how, ignore_index)\u001b[0m\n\u001b[0;32m   5602\u001b[0m \u001b[39mself\u001b[39m\u001b[39m.\u001b[39m_get_axis_number(axis \u001b[39mor\u001b[39;00m \u001b[39m0\u001b[39m)\n\u001b[0;32m   5604\u001b[0m \u001b[39mif\u001b[39;00m \u001b[39mself\u001b[39m\u001b[39m.\u001b[39m_can_hold_na:\n\u001b[1;32m-> 5605\u001b[0m     result \u001b[39m=\u001b[39m remove_na_arraylike(\u001b[39mself\u001b[39;49m)\n\u001b[0;32m   5606\u001b[0m \u001b[39melse\u001b[39;00m:\n\u001b[0;32m   5607\u001b[0m     \u001b[39mif\u001b[39;00m \u001b[39mnot\u001b[39;00m inplace:\n",
      "File \u001b[1;32mc:\\Users\\zox\\AppData\\Local\\Programs\\Python\\Python311\\Lib\\site-packages\\pandas\\core\\dtypes\\missing.py:690\u001b[0m, in \u001b[0;36mremove_na_arraylike\u001b[1;34m(arr)\u001b[0m\n\u001b[0;32m    688\u001b[0m     \u001b[39mreturn\u001b[39;00m arr[notna(arr)]\n\u001b[0;32m    689\u001b[0m \u001b[39melse\u001b[39;00m:\n\u001b[1;32m--> 690\u001b[0m     \u001b[39mreturn\u001b[39;00m arr[notna(np\u001b[39m.\u001b[39;49masarray(arr))]\n",
      "File \u001b[1;32mc:\\Users\\zox\\AppData\\Local\\Programs\\Python\\Python311\\Lib\\site-packages\\pandas\\core\\series.py:1016\u001b[0m, in \u001b[0;36mSeries.__getitem__\u001b[1;34m(self, key)\u001b[0m\n\u001b[0;32m   1013\u001b[0m     out \u001b[39m=\u001b[39m \u001b[39mself\u001b[39m\u001b[39m.\u001b[39m_constructor(mgr, fastpath\u001b[39m=\u001b[39m\u001b[39mTrue\u001b[39;00m)\n\u001b[0;32m   1014\u001b[0m     \u001b[39mreturn\u001b[39;00m out\u001b[39m.\u001b[39m__finalize__(\u001b[39mself\u001b[39m)\n\u001b[1;32m-> 1016\u001b[0m \u001b[39mdef\u001b[39;00m \u001b[39m__getitem__\u001b[39m(\u001b[39mself\u001b[39m, key):\n\u001b[0;32m   1017\u001b[0m     check_dict_or_set_indexers(key)\n\u001b[0;32m   1018\u001b[0m     key \u001b[39m=\u001b[39m com\u001b[39m.\u001b[39mapply_if_callable(key, \u001b[39mself\u001b[39m)\n",
      "\u001b[1;31mKeyboardInterrupt\u001b[0m: "
     ]
    }
   ],
   "source": [
    "from tqdm.notebook import tqdm\n",
    "predict_rating = []\n",
    "for idx, (user, item, true_rating, time, tag) in tqdm(test_data.iterrows()):\n",
    "    # print(user, item, true_rating, time, tag)\n",
    "    predict_rating.append(predict(user, item, similarity_threshold=0.4, similar_users_num=50))\n",
    "    # print(true_rating, predict_rating)\n",
    "\n",
    "results_df = pd.DataFrame({'user': test_data['User'], 'true_rating': test_data['Rate'], 'predict_rating': predict_rating})\n",
    "\n",
    "print(results_df.head())\n"
   ]
  },
  {
   "cell_type": "code",
   "execution_count": 53,
   "metadata": {},
   "outputs": [
    {
     "name": "stdout",
     "output_type": "stream",
     "text": [
      "Average NDCG score: 0.9148088464886232\n"
     ]
    }
   ],
   "source": [
    "# 助教是这么写的，就很神奇, 但是这样对只有一个项目求ndcg会报错\n",
    "# ndcg_scores = results_df.groupby('user').apply(compute_ndcg)\n",
    "ndcg_scores = results_df[results_df.groupby('user')['user'].transform('count') > 1].groupby('user').apply(compute_ndcg)\n",
    "\n",
    "avg_ndcg = ndcg_scores.mean()\n",
    "print(f\"Average NDCG score: {avg_ndcg}\")"
   ]
  }
 ],
 "metadata": {
  "kernelspec": {
   "display_name": "Python 3",
   "language": "python",
   "name": "python3"
  },
  "language_info": {
   "codemirror_mode": {
    "name": "ipython",
    "version": 3
   },
   "file_extension": ".py",
   "mimetype": "text/x-python",
   "name": "python",
   "nbconvert_exporter": "python",
   "pygments_lexer": "ipython3",
   "version": "3.11.5"
  }
 },
 "nbformat": 4,
 "nbformat_minor": 2
}
