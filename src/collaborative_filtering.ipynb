{
 "cells": [
  {
   "cell_type": "code",
   "execution_count": 1,
   "metadata": {},
   "outputs": [],
   "source": [
    "import csv\n",
    "import numpy as np\n",
    "import pandas as pd\n",
    "import matplotlib.pyplot as plt"
   ]
  },
  {
   "cell_type": "code",
   "execution_count": 2,
   "metadata": {},
   "outputs": [
    {
     "name": "stdout",
     "output_type": "stream",
     "text": [
      "User      4419\n",
      "Book      1200\n",
      "Rate         6\n",
      "Time    634776\n",
      "Tag      59960\n",
      "dtype: int64\n",
      "User       1023\n",
      "Movie      1200\n",
      "Rate          6\n",
      "Time     712198\n",
      "Tag      110708\n",
      "dtype: int64\n"
     ]
    }
   ],
   "source": [
    "book_path = '../data/book_score.csv'\n",
    "movie_path = '../data/movie_score.csv'\n",
    "book_df = pd.read_csv(book_path, encoding='utf-8')\n",
    "movie_df = pd.read_csv(movie_path, encoding='utf-8')\n",
    "book_df.head()\n",
    "print(book_df.nunique())\n",
    "print(movie_df.nunique())"
   ]
  },
  {
   "cell_type": "code",
   "execution_count": 3,
   "metadata": {},
   "outputs": [
    {
     "name": "stdout",
     "output_type": "stream",
     "text": [
      "Rate\n",
      "0    233447\n",
      "4    165052\n",
      "5    131574\n",
      "3     92447\n",
      "2     11296\n",
      "1      3438\n",
      "Name: count, dtype: int64\n"
     ]
    }
   ],
   "source": [
    "# print(movie_df[movie_df[\"Rate\"] == 0].nunique())\n",
    "print(book_df[\"Rate\"].value_counts())"
   ]
  },
  {
   "cell_type": "code",
   "execution_count": 4,
   "metadata": {},
   "outputs": [
    {
     "name": "stdout",
     "output_type": "stream",
     "text": [
      "Rate\n",
      "4    203661\n",
      "3    162926\n",
      "5    115492\n",
      "2     32510\n",
      "1      9059\n",
      "Name: count, dtype: int64\n"
     ]
    }
   ],
   "source": [
    "book_df.rename(columns={'Book': 'Item'}, inplace=True)\n",
    "movie_df.rename(columns={'Movie': 'Item'}, inplace=True)\n",
    "\n",
    "book_df.drop(book_df[book_df[\"Rate\"] == 0].index, inplace=True)\n",
    "movie_df.drop(movie_df[movie_df[\"Rate\"] == 0].index, inplace=True)\n",
    "\n",
    "print(movie_df[\"Rate\"].value_counts())"
   ]
  },
  {
   "cell_type": "code",
   "execution_count": 5,
   "metadata": {},
   "outputs": [],
   "source": [
    "from sklearn.model_selection import train_test_split\n",
    "data = book_df\n",
    "train_data, test_data = train_test_split(data, test_size=0.5, random_state=42)"
   ]
  },
  {
   "cell_type": "code",
   "execution_count": 6,
   "metadata": {},
   "outputs": [
    {
     "data": {
      "text/plain": [
       "User\n",
       "1000068    2.600000\n",
       "1000147    4.129032\n",
       "1000152    3.922078\n",
       "1000153    4.200000\n",
       "1000166    3.654545\n",
       "dtype: float64"
      ]
     },
     "execution_count": 6,
     "metadata": {},
     "output_type": "execute_result"
    }
   ],
   "source": [
    "matrix = train_data.pivot_table(index='User', columns='Item', values='Rate')\n",
    "user_mean = matrix.mean(axis=1)\n",
    "matrix = matrix.subtract(matrix.mean(axis=1), axis = \"rows\")\n",
    "user_mean.head()"
   ]
  },
  {
   "cell_type": "code",
   "execution_count": 7,
   "metadata": {},
   "outputs": [
    {
     "data": {
      "text/html": [
       "<div>\n",
       "<style scoped>\n",
       "    .dataframe tbody tr th:only-of-type {\n",
       "        vertical-align: middle;\n",
       "    }\n",
       "\n",
       "    .dataframe tbody tr th {\n",
       "        vertical-align: top;\n",
       "    }\n",
       "\n",
       "    .dataframe thead th {\n",
       "        text-align: right;\n",
       "    }\n",
       "</style>\n",
       "<table border=\"1\" class=\"dataframe\">\n",
       "  <thead>\n",
       "    <tr style=\"text-align: right;\">\n",
       "      <th>User</th>\n",
       "      <th>1000068</th>\n",
       "      <th>1000147</th>\n",
       "      <th>1000152</th>\n",
       "      <th>1000153</th>\n",
       "      <th>1000166</th>\n",
       "      <th>1000182</th>\n",
       "      <th>1000288</th>\n",
       "      <th>1000375</th>\n",
       "      <th>1000430</th>\n",
       "      <th>1000553</th>\n",
       "      <th>...</th>\n",
       "      <th>45337884</th>\n",
       "      <th>46178728</th>\n",
       "      <th>46419900</th>\n",
       "      <th>46876853</th>\n",
       "      <th>47047302</th>\n",
       "      <th>47271690</th>\n",
       "      <th>47489193</th>\n",
       "      <th>47513621</th>\n",
       "      <th>48486558</th>\n",
       "      <th>48943819</th>\n",
       "    </tr>\n",
       "    <tr>\n",
       "      <th>User</th>\n",
       "      <th></th>\n",
       "      <th></th>\n",
       "      <th></th>\n",
       "      <th></th>\n",
       "      <th></th>\n",
       "      <th></th>\n",
       "      <th></th>\n",
       "      <th></th>\n",
       "      <th></th>\n",
       "      <th></th>\n",
       "      <th></th>\n",
       "      <th></th>\n",
       "      <th></th>\n",
       "      <th></th>\n",
       "      <th></th>\n",
       "      <th></th>\n",
       "      <th></th>\n",
       "      <th></th>\n",
       "      <th></th>\n",
       "      <th></th>\n",
       "      <th></th>\n",
       "    </tr>\n",
       "  </thead>\n",
       "  <tbody>\n",
       "    <tr>\n",
       "      <th>1000068</th>\n",
       "      <td>1.0</td>\n",
       "      <td>NaN</td>\n",
       "      <td>NaN</td>\n",
       "      <td>NaN</td>\n",
       "      <td>NaN</td>\n",
       "      <td>NaN</td>\n",
       "      <td>NaN</td>\n",
       "      <td>NaN</td>\n",
       "      <td>NaN</td>\n",
       "      <td>NaN</td>\n",
       "      <td>...</td>\n",
       "      <td>NaN</td>\n",
       "      <td>NaN</td>\n",
       "      <td>NaN</td>\n",
       "      <td>NaN</td>\n",
       "      <td>NaN</td>\n",
       "      <td>NaN</td>\n",
       "      <td>NaN</td>\n",
       "      <td>NaN</td>\n",
       "      <td>NaN</td>\n",
       "      <td>NaN</td>\n",
       "    </tr>\n",
       "    <tr>\n",
       "      <th>1000147</th>\n",
       "      <td>NaN</td>\n",
       "      <td>1.000000</td>\n",
       "      <td>NaN</td>\n",
       "      <td>NaN</td>\n",
       "      <td>0.218218</td>\n",
       "      <td>0.333333</td>\n",
       "      <td>NaN</td>\n",
       "      <td>NaN</td>\n",
       "      <td>0.5</td>\n",
       "      <td>NaN</td>\n",
       "      <td>...</td>\n",
       "      <td>NaN</td>\n",
       "      <td>NaN</td>\n",
       "      <td>0.00</td>\n",
       "      <td>NaN</td>\n",
       "      <td>NaN</td>\n",
       "      <td>NaN</td>\n",
       "      <td>NaN</td>\n",
       "      <td>1.0</td>\n",
       "      <td>NaN</td>\n",
       "      <td>-0.500000</td>\n",
       "    </tr>\n",
       "    <tr>\n",
       "      <th>1000152</th>\n",
       "      <td>NaN</td>\n",
       "      <td>NaN</td>\n",
       "      <td>1.000000</td>\n",
       "      <td>0.3</td>\n",
       "      <td>-0.189389</td>\n",
       "      <td>0.449089</td>\n",
       "      <td>0.000000</td>\n",
       "      <td>1.0</td>\n",
       "      <td>-1.0</td>\n",
       "      <td>1.0</td>\n",
       "      <td>...</td>\n",
       "      <td>0.408248</td>\n",
       "      <td>1.000000</td>\n",
       "      <td>0.75</td>\n",
       "      <td>NaN</td>\n",
       "      <td>NaN</td>\n",
       "      <td>NaN</td>\n",
       "      <td>NaN</td>\n",
       "      <td>NaN</td>\n",
       "      <td>0.678834</td>\n",
       "      <td>0.106600</td>\n",
       "    </tr>\n",
       "    <tr>\n",
       "      <th>1000153</th>\n",
       "      <td>NaN</td>\n",
       "      <td>NaN</td>\n",
       "      <td>0.300000</td>\n",
       "      <td>1.0</td>\n",
       "      <td>NaN</td>\n",
       "      <td>0.067420</td>\n",
       "      <td>-0.447214</td>\n",
       "      <td>NaN</td>\n",
       "      <td>NaN</td>\n",
       "      <td>NaN</td>\n",
       "      <td>...</td>\n",
       "      <td>0.316228</td>\n",
       "      <td>0.755929</td>\n",
       "      <td>NaN</td>\n",
       "      <td>NaN</td>\n",
       "      <td>NaN</td>\n",
       "      <td>NaN</td>\n",
       "      <td>NaN</td>\n",
       "      <td>NaN</td>\n",
       "      <td>NaN</td>\n",
       "      <td>0.186551</td>\n",
       "    </tr>\n",
       "    <tr>\n",
       "      <th>1000166</th>\n",
       "      <td>NaN</td>\n",
       "      <td>0.218218</td>\n",
       "      <td>-0.189389</td>\n",
       "      <td>NaN</td>\n",
       "      <td>1.000000</td>\n",
       "      <td>0.490990</td>\n",
       "      <td>0.166667</td>\n",
       "      <td>1.0</td>\n",
       "      <td>NaN</td>\n",
       "      <td>NaN</td>\n",
       "      <td>...</td>\n",
       "      <td>0.000000</td>\n",
       "      <td>-0.231455</td>\n",
       "      <td>-0.25</td>\n",
       "      <td>NaN</td>\n",
       "      <td>-0.707107</td>\n",
       "      <td>NaN</td>\n",
       "      <td>NaN</td>\n",
       "      <td>1.0</td>\n",
       "      <td>NaN</td>\n",
       "      <td>0.868243</td>\n",
       "    </tr>\n",
       "  </tbody>\n",
       "</table>\n",
       "<p>5 rows × 4261 columns</p>\n",
       "</div>"
      ],
      "text/plain": [
       "User     1000068   1000147   1000152   1000153   1000166   1000182   1000288   \\\n",
       "User                                                                            \n",
       "1000068       1.0       NaN       NaN       NaN       NaN       NaN       NaN   \n",
       "1000147       NaN  1.000000       NaN       NaN  0.218218  0.333333       NaN   \n",
       "1000152       NaN       NaN  1.000000       0.3 -0.189389  0.449089  0.000000   \n",
       "1000153       NaN       NaN  0.300000       1.0       NaN  0.067420 -0.447214   \n",
       "1000166       NaN  0.218218 -0.189389       NaN  1.000000  0.490990  0.166667   \n",
       "\n",
       "User     1000375   1000430   1000553   ...  45337884  46178728  46419900  \\\n",
       "User                                   ...                                 \n",
       "1000068       NaN       NaN       NaN  ...       NaN       NaN       NaN   \n",
       "1000147       NaN       0.5       NaN  ...       NaN       NaN      0.00   \n",
       "1000152       1.0      -1.0       1.0  ...  0.408248  1.000000      0.75   \n",
       "1000153       NaN       NaN       NaN  ...  0.316228  0.755929       NaN   \n",
       "1000166       1.0       NaN       NaN  ...  0.000000 -0.231455     -0.25   \n",
       "\n",
       "User     46876853  47047302  47271690  47489193  47513621  48486558  48943819  \n",
       "User                                                                           \n",
       "1000068       NaN       NaN       NaN       NaN       NaN       NaN       NaN  \n",
       "1000147       NaN       NaN       NaN       NaN       1.0       NaN -0.500000  \n",
       "1000152       NaN       NaN       NaN       NaN       NaN  0.678834  0.106600  \n",
       "1000153       NaN       NaN       NaN       NaN       NaN       NaN  0.186551  \n",
       "1000166       NaN -0.707107       NaN       NaN       1.0       NaN  0.868243  \n",
       "\n",
       "[5 rows x 4261 columns]"
      ]
     },
     "execution_count": 7,
     "metadata": {},
     "output_type": "execute_result"
    }
   ],
   "source": [
    "user_similarity = matrix.T.corr(method=\"pearson\")\n",
    "user_similarity.head()"
   ]
  },
  {
   "cell_type": "code",
   "execution_count": 8,
   "metadata": {},
   "outputs": [],
   "source": [
    "# use the similarity matrix to predict the user's rating for an item\n",
    "similar_users_storage = dict()\n",
    "def predict(user, item, similarity_threshold = 0.5, similar_users_num = 30):\n",
    "    if(user not in matrix.index):\n",
    "        return user_mean.mean()\n",
    "        \n",
    "    user_rating = matrix.loc[user, item]\n",
    "    if np.isnan(user_rating):\n",
    "\n",
    "        item_rating = matrix[item]\n",
    "        item_rating = item_rating.dropna()\n",
    "\n",
    "        if(similar_users_storage.get(user) is None):\n",
    "            similar_users = user_similarity[user].dropna()\n",
    "            similar_users = similar_users[similar_users > similarity_threshold]\n",
    "            similar_users = similar_users.sort_values(ascending=False)\n",
    "            similar_users_storage[user] = similar_users\n",
    "        else:\n",
    "            similar_users = similar_users_storage[user]\n",
    "        \n",
    "        # Only consider similar users who have rated the item\n",
    "        common_users = list(set(similar_users.index).intersection(set(item_rating.index)))\n",
    "        common_users.sort(key = lambda x: similar_users[x], reverse=True)\n",
    "        \n",
    "        common_users = common_users[:similar_users_num if len(common_users) > similar_users_num else len(common_users)]\n",
    "        item_rating = item_rating.loc[common_users]\n",
    "\n",
    "        if len(item_rating) == 0:\n",
    "            return user_mean[user]\n",
    "        else:\n",
    "            return item_rating.mean() + user_mean[user]\n",
    "    else:\n",
    "        return user_rating"
   ]
  },
  {
   "cell_type": "code",
   "execution_count": 9,
   "metadata": {},
   "outputs": [],
   "source": [
    "from sklearn.metrics import ndcg_score\n",
    "def compute_ndcg(group):\n",
    "    true_ratings = group['true_rating'].tolist()\n",
    "    pred_ratings = group['predict_rating'].tolist()\n",
    "    return ndcg_score([true_ratings], [pred_ratings], k = 50)"
   ]
  },
  {
   "cell_type": "code",
   "execution_count": 24,
   "metadata": {},
   "outputs": [
    {
     "data": {
      "application/vnd.jupyter.widget-view+json": {
       "model_id": "583b860d5c6b4e8dac54c146fbfb3ae0",
       "version_major": 2,
       "version_minor": 0
      },
      "text/plain": [
       "0it [00:00, ?it/s]"
      ]
     },
     "metadata": {},
     "output_type": "display_data"
    },
    {
     "name": "stdout",
     "output_type": "stream",
     "text": [
      "           user  true_rating  predict_rating\n",
      "366963  6031637            5        4.243343\n",
      "384653  1060557            5        4.476461\n",
      "426098  2046939            5        4.001992\n",
      "512939  1039434            5        3.265211\n",
      "390293  1326807            5        4.195641\n"
     ]
    }
   ],
   "source": [
    "from tqdm.notebook import tqdm\n",
    "predict_rating = []\n",
    "for idx, (user, item, true_rating, time, tag) in tqdm(test_data.iterrows()):\n",
    "    # print(user, item, true_rating, time, tag)\n",
    "    predict_rating.append(predict(user, item, similarity_threshold=0.4, similar_users_num=50))\n",
    "    # print(true_rating, predict_rating)\n",
    "\n",
    "results_df = pd.DataFrame({'user': test_data['User'], 'true_rating': test_data['Rate'], 'predict_rating': predict_rating})\n",
    "\n",
    "print(results_df.head())\n"
   ]
  },
  {
   "cell_type": "code",
   "execution_count": 11,
   "metadata": {},
   "outputs": [
    {
     "name": "stdout",
     "output_type": "stream",
     "text": [
      "Average NDCG score: 0.9595920774270024\n"
     ]
    }
   ],
   "source": [
    "# 助教是这么写的，就很神奇, 但是这样对只有一个项目求ndcg会报错\n",
    "# ndcg_scores = results_df.groupby('user').apply(compute_ndcg)\n",
    "ndcg_scores = results_df[results_df.groupby('user')['user'].transform('count') > 1].groupby('user').apply(compute_ndcg)\n",
    "\n",
    "avg_ndcg = ndcg_scores.mean()\n",
    "print(f\"Average NDCG score: {avg_ndcg}\")"
   ]
  }
 ],
 "metadata": {
  "kernelspec": {
   "display_name": "Python 3",
   "language": "python",
   "name": "python3"
  },
  "language_info": {
   "codemirror_mode": {
    "name": "ipython",
    "version": 3
   },
   "file_extension": ".py",
   "mimetype": "text/x-python",
   "name": "python",
   "nbconvert_exporter": "python",
   "pygments_lexer": "ipython3",
   "version": "3.11.5"
  }
 },
 "nbformat": 4,
 "nbformat_minor": 2
}
