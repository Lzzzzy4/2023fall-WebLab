{
 "cells": [
  {
   "cell_type": "code",
   "execution_count": 12,
   "metadata": {},
   "outputs": [],
   "source": [
    "import csv\n",
    "import numpy as np\n",
    "import pandas as pd\n",
    "import matplotlib.pyplot as plt"
   ]
  },
  {
   "cell_type": "code",
   "execution_count": 13,
   "metadata": {},
   "outputs": [
    {
     "name": "stdout",
     "output_type": "stream",
     "text": [
      "User      4419\n",
      "Book      1200\n",
      "Rate         6\n",
      "Time    634776\n",
      "Tag      59960\n",
      "dtype: int64\n",
      "User       1023\n",
      "Movie      1200\n",
      "Rate          6\n",
      "Time     712198\n",
      "Tag      110708\n",
      "dtype: int64\n"
     ]
    }
   ],
   "source": [
    "book_path = '../data/book_score.csv'\n",
    "movie_path = '../data/movie_score.csv'\n",
    "book_df = pd.read_csv(book_path, encoding='utf-8')\n",
    "movie_df = pd.read_csv(movie_path, encoding='utf-8')\n",
    "book_df.head()\n",
    "print(book_df.nunique())\n",
    "print(movie_df.nunique())"
   ]
  },
  {
   "cell_type": "code",
   "execution_count": 14,
   "metadata": {},
   "outputs": [
    {
     "name": "stdout",
     "output_type": "stream",
     "text": [
      "Rate\n",
      "0    233447\n",
      "4    165052\n",
      "5    131574\n",
      "3     92447\n",
      "2     11296\n",
      "1      3438\n",
      "Name: count, dtype: int64\n"
     ]
    }
   ],
   "source": [
    "# print(movie_df[movie_df[\"Rate\"] == 0].nunique())\n",
    "print(book_df[\"Rate\"].value_counts())"
   ]
  },
  {
   "cell_type": "code",
   "execution_count": 15,
   "metadata": {},
   "outputs": [
    {
     "name": "stdout",
     "output_type": "stream",
     "text": [
      "Rate\n",
      "4    203661\n",
      "3    162926\n",
      "5    115492\n",
      "2     32510\n",
      "1      9059\n",
      "Name: count, dtype: int64\n"
     ]
    }
   ],
   "source": [
    "book_df.rename(columns={'Book': 'Item'}, inplace=True)\n",
    "movie_df.rename(columns={'Movie': 'Item'}, inplace=True)\n",
    "\n",
    "book_df.drop(book_df[book_df[\"Rate\"] == 0].index, inplace=True)\n",
    "movie_df.drop(movie_df[movie_df[\"Rate\"] == 0].index, inplace=True)\n",
    "\n",
    "print(movie_df[\"Rate\"].value_counts())"
   ]
  },
  {
   "cell_type": "code",
   "execution_count": 16,
   "metadata": {},
   "outputs": [],
   "source": [
    "from sklearn.model_selection import train_test_split\n",
    "data = book_df\n",
    "train_data, test_data = train_test_split(data, test_size=0.5, random_state=42)"
   ]
  },
  {
   "cell_type": "code",
   "execution_count": 17,
   "metadata": {},
   "outputs": [
    {
     "data": {
      "text/plain": [
       "User\n",
       "1000068    2.600000\n",
       "1000147    4.129032\n",
       "1000152    3.922078\n",
       "1000153    4.200000\n",
       "1000166    3.654545\n",
       "dtype: float64"
      ]
     },
     "execution_count": 17,
     "metadata": {},
     "output_type": "execute_result"
    }
   ],
   "source": [
    "matrix = train_data.pivot_table(index='User', columns='Item', values='Rate')\n",
    "user_mean = matrix.mean(axis=1)\n",
    "matrix = matrix.subtract(matrix.mean(axis=1), axis = \"rows\")\n",
    "user_mean.head()"
   ]
  },
  {
   "cell_type": "code",
   "execution_count": 18,
   "metadata": {},
   "outputs": [
    {
     "data": {
      "text/html": [
       "<div>\n",
       "<style scoped>\n",
       "    .dataframe tbody tr th:only-of-type {\n",
       "        vertical-align: middle;\n",
       "    }\n",
       "\n",
       "    .dataframe tbody tr th {\n",
       "        vertical-align: top;\n",
       "    }\n",
       "\n",
       "    .dataframe thead th {\n",
       "        text-align: right;\n",
       "    }\n",
       "</style>\n",
       "<table border=\"1\" class=\"dataframe\">\n",
       "  <thead>\n",
       "    <tr style=\"text-align: right;\">\n",
       "      <th>User</th>\n",
       "      <th>1000068</th>\n",
       "      <th>1000147</th>\n",
       "      <th>1000152</th>\n",
       "      <th>1000153</th>\n",
       "      <th>1000166</th>\n",
       "      <th>1000182</th>\n",
       "      <th>1000288</th>\n",
       "      <th>1000375</th>\n",
       "      <th>1000430</th>\n",
       "      <th>1000553</th>\n",
       "      <th>...</th>\n",
       "      <th>45337884</th>\n",
       "      <th>46178728</th>\n",
       "      <th>46419900</th>\n",
       "      <th>46876853</th>\n",
       "      <th>47047302</th>\n",
       "      <th>47271690</th>\n",
       "      <th>47489193</th>\n",
       "      <th>47513621</th>\n",
       "      <th>48486558</th>\n",
       "      <th>48943819</th>\n",
       "    </tr>\n",
       "    <tr>\n",
       "      <th>User</th>\n",
       "      <th></th>\n",
       "      <th></th>\n",
       "      <th></th>\n",
       "      <th></th>\n",
       "      <th></th>\n",
       "      <th></th>\n",
       "      <th></th>\n",
       "      <th></th>\n",
       "      <th></th>\n",
       "      <th></th>\n",
       "      <th></th>\n",
       "      <th></th>\n",
       "      <th></th>\n",
       "      <th></th>\n",
       "      <th></th>\n",
       "      <th></th>\n",
       "      <th></th>\n",
       "      <th></th>\n",
       "      <th></th>\n",
       "      <th></th>\n",
       "      <th></th>\n",
       "    </tr>\n",
       "  </thead>\n",
       "  <tbody>\n",
       "    <tr>\n",
       "      <th>1000068</th>\n",
       "      <td>1.0</td>\n",
       "      <td>NaN</td>\n",
       "      <td>NaN</td>\n",
       "      <td>NaN</td>\n",
       "      <td>NaN</td>\n",
       "      <td>NaN</td>\n",
       "      <td>NaN</td>\n",
       "      <td>NaN</td>\n",
       "      <td>NaN</td>\n",
       "      <td>NaN</td>\n",
       "      <td>...</td>\n",
       "      <td>NaN</td>\n",
       "      <td>NaN</td>\n",
       "      <td>NaN</td>\n",
       "      <td>NaN</td>\n",
       "      <td>NaN</td>\n",
       "      <td>NaN</td>\n",
       "      <td>NaN</td>\n",
       "      <td>NaN</td>\n",
       "      <td>NaN</td>\n",
       "      <td>NaN</td>\n",
       "    </tr>\n",
       "    <tr>\n",
       "      <th>1000147</th>\n",
       "      <td>NaN</td>\n",
       "      <td>1.000000</td>\n",
       "      <td>NaN</td>\n",
       "      <td>NaN</td>\n",
       "      <td>0.218218</td>\n",
       "      <td>0.333333</td>\n",
       "      <td>NaN</td>\n",
       "      <td>NaN</td>\n",
       "      <td>0.5</td>\n",
       "      <td>NaN</td>\n",
       "      <td>...</td>\n",
       "      <td>NaN</td>\n",
       "      <td>NaN</td>\n",
       "      <td>0.00</td>\n",
       "      <td>NaN</td>\n",
       "      <td>NaN</td>\n",
       "      <td>NaN</td>\n",
       "      <td>NaN</td>\n",
       "      <td>1.0</td>\n",
       "      <td>NaN</td>\n",
       "      <td>-0.500000</td>\n",
       "    </tr>\n",
       "    <tr>\n",
       "      <th>1000152</th>\n",
       "      <td>NaN</td>\n",
       "      <td>NaN</td>\n",
       "      <td>1.000000</td>\n",
       "      <td>0.3</td>\n",
       "      <td>-0.189389</td>\n",
       "      <td>0.449089</td>\n",
       "      <td>0.000000</td>\n",
       "      <td>1.0</td>\n",
       "      <td>-1.0</td>\n",
       "      <td>1.0</td>\n",
       "      <td>...</td>\n",
       "      <td>0.408248</td>\n",
       "      <td>1.000000</td>\n",
       "      <td>0.75</td>\n",
       "      <td>NaN</td>\n",
       "      <td>NaN</td>\n",
       "      <td>NaN</td>\n",
       "      <td>NaN</td>\n",
       "      <td>NaN</td>\n",
       "      <td>0.678834</td>\n",
       "      <td>0.106600</td>\n",
       "    </tr>\n",
       "    <tr>\n",
       "      <th>1000153</th>\n",
       "      <td>NaN</td>\n",
       "      <td>NaN</td>\n",
       "      <td>0.300000</td>\n",
       "      <td>1.0</td>\n",
       "      <td>NaN</td>\n",
       "      <td>0.067420</td>\n",
       "      <td>-0.447214</td>\n",
       "      <td>NaN</td>\n",
       "      <td>NaN</td>\n",
       "      <td>NaN</td>\n",
       "      <td>...</td>\n",
       "      <td>0.316228</td>\n",
       "      <td>0.755929</td>\n",
       "      <td>NaN</td>\n",
       "      <td>NaN</td>\n",
       "      <td>NaN</td>\n",
       "      <td>NaN</td>\n",
       "      <td>NaN</td>\n",
       "      <td>NaN</td>\n",
       "      <td>NaN</td>\n",
       "      <td>0.186551</td>\n",
       "    </tr>\n",
       "    <tr>\n",
       "      <th>1000166</th>\n",
       "      <td>NaN</td>\n",
       "      <td>0.218218</td>\n",
       "      <td>-0.189389</td>\n",
       "      <td>NaN</td>\n",
       "      <td>1.000000</td>\n",
       "      <td>0.490990</td>\n",
       "      <td>0.166667</td>\n",
       "      <td>1.0</td>\n",
       "      <td>NaN</td>\n",
       "      <td>NaN</td>\n",
       "      <td>...</td>\n",
       "      <td>0.000000</td>\n",
       "      <td>-0.231455</td>\n",
       "      <td>-0.25</td>\n",
       "      <td>NaN</td>\n",
       "      <td>-0.707107</td>\n",
       "      <td>NaN</td>\n",
       "      <td>NaN</td>\n",
       "      <td>1.0</td>\n",
       "      <td>NaN</td>\n",
       "      <td>0.868243</td>\n",
       "    </tr>\n",
       "  </tbody>\n",
       "</table>\n",
       "<p>5 rows × 4261 columns</p>\n",
       "</div>"
      ],
      "text/plain": [
       "User     1000068   1000147   1000152   1000153   1000166   1000182   1000288   \\\n",
       "User                                                                            \n",
       "1000068       1.0       NaN       NaN       NaN       NaN       NaN       NaN   \n",
       "1000147       NaN  1.000000       NaN       NaN  0.218218  0.333333       NaN   \n",
       "1000152       NaN       NaN  1.000000       0.3 -0.189389  0.449089  0.000000   \n",
       "1000153       NaN       NaN  0.300000       1.0       NaN  0.067420 -0.447214   \n",
       "1000166       NaN  0.218218 -0.189389       NaN  1.000000  0.490990  0.166667   \n",
       "\n",
       "User     1000375   1000430   1000553   ...  45337884  46178728  46419900  \\\n",
       "User                                   ...                                 \n",
       "1000068       NaN       NaN       NaN  ...       NaN       NaN       NaN   \n",
       "1000147       NaN       0.5       NaN  ...       NaN       NaN      0.00   \n",
       "1000152       1.0      -1.0       1.0  ...  0.408248  1.000000      0.75   \n",
       "1000153       NaN       NaN       NaN  ...  0.316228  0.755929       NaN   \n",
       "1000166       1.0       NaN       NaN  ...  0.000000 -0.231455     -0.25   \n",
       "\n",
       "User     46876853  47047302  47271690  47489193  47513621  48486558  48943819  \n",
       "User                                                                           \n",
       "1000068       NaN       NaN       NaN       NaN       NaN       NaN       NaN  \n",
       "1000147       NaN       NaN       NaN       NaN       1.0       NaN -0.500000  \n",
       "1000152       NaN       NaN       NaN       NaN       NaN  0.678834  0.106600  \n",
       "1000153       NaN       NaN       NaN       NaN       NaN       NaN  0.186551  \n",
       "1000166       NaN -0.707107       NaN       NaN       1.0       NaN  0.868243  \n",
       "\n",
       "[5 rows x 4261 columns]"
      ]
     },
     "execution_count": 18,
     "metadata": {},
     "output_type": "execute_result"
    }
   ],
   "source": [
    "user_similarity = matrix.T.corr(method=\"pearson\")\n",
    "user_similarity.head()"
   ]
  },
  {
   "cell_type": "code",
   "execution_count": 19,
   "metadata": {},
   "outputs": [],
   "source": [
    "# use the similarity matrix to predict the user's rating for an item\n",
    "similar_users_storage = dict()\n",
    "def predict(user, item, similarity_threshold = 0.5, similar_users_num = 30):\n",
    "    if(user not in matrix.index):\n",
    "        return user_mean.mean()\n",
    "        \n",
    "    user_rating = matrix.loc[user, item]\n",
    "    if np.isnan(user_rating):\n",
    "\n",
    "        item_rating = matrix[item]\n",
    "        item_rating = item_rating.dropna()\n",
    "\n",
    "        if(similar_users_storage.get(user) is None):\n",
    "            similar_users = user_similarity[user].dropna()\n",
    "            similar_users = similar_users[similar_users > similarity_threshold]\n",
    "            similar_users = similar_users.sort_values(ascending=False)\n",
    "            similar_users_storage[user] = similar_users\n",
    "        else:\n",
    "            similar_users = similar_users_storage[user]\n",
    "        \n",
    "        # Only consider similar users who have rated the item\n",
    "        common_users = list(set(similar_users.index).intersection(set(item_rating.index)))\n",
    "        common_users.sort(key = lambda x: similar_users[x], reverse=True)\n",
    "        \n",
    "        common_users = common_users[:similar_users_num if len(common_users) > similar_users_num else len(common_users)]\n",
    "        item_rating = item_rating.loc[common_users]\n",
    "\n",
    "        if len(item_rating) == 0:\n",
    "            return user_mean[user]\n",
    "        else:\n",
    "            return item_rating.mean() + user_mean[user]\n",
    "    else:\n",
    "        return user_rating"
   ]
  },
  {
   "cell_type": "code",
   "execution_count": 20,
   "metadata": {},
   "outputs": [],
   "source": [
    "from sklearn.metrics import ndcg_score\n",
    "def compute_ndcg(group):\n",
    "    true_ratings = group['true_rating'].tolist()\n",
    "    pred_ratings = group['predict_rating'].tolist()\n",
    "    return ndcg_score([true_ratings], [pred_ratings], k = 50)"
   ]
  },
  {
   "cell_type": "code",
   "execution_count": 23,
   "metadata": {},
   "outputs": [
    {
     "data": {
      "application/vnd.jupyter.widget-view+json": {
       "model_id": "48f6f1e562a54c6a8271be177d1a18cb",
       "version_major": 2,
       "version_minor": 0
      },
      "text/plain": [
       "0it [00:00, ?it/s]"
      ]
     },
     "metadata": {},
     "output_type": "display_data"
    },
    {
     "ename": "ValueError",
     "evalue": "array length 201903 does not match index length 201904",
     "output_type": "error",
     "traceback": [
      "\u001b[1;31m---------------------------------------------------------------------------\u001b[0m",
      "\u001b[1;31mValueError\u001b[0m                                Traceback (most recent call last)",
      "\u001b[1;32mc:\\Users\\zox\\Code\\web\\2023fall-WebLab\\src\\collaborative_filtering.ipynb 单元格 10\u001b[0m line \u001b[0;36m8\n\u001b[0;32m      <a href='vscode-notebook-cell:/c%3A/Users/zox/Code/web/2023fall-WebLab/src/collaborative_filtering.ipynb#X12sZmlsZQ%3D%3D?line=4'>5</a>\u001b[0m     predict_rating\u001b[39m.\u001b[39mappend(predict(user, item, similarity_threshold\u001b[39m=\u001b[39m\u001b[39m0.4\u001b[39m, similar_users_num\u001b[39m=\u001b[39m\u001b[39m50\u001b[39m))\n\u001b[0;32m      <a href='vscode-notebook-cell:/c%3A/Users/zox/Code/web/2023fall-WebLab/src/collaborative_filtering.ipynb#X12sZmlsZQ%3D%3D?line=5'>6</a>\u001b[0m     \u001b[39m# print(true_rating, predict_rating)\u001b[39;00m\n\u001b[1;32m----> <a href='vscode-notebook-cell:/c%3A/Users/zox/Code/web/2023fall-WebLab/src/collaborative_filtering.ipynb#X12sZmlsZQ%3D%3D?line=7'>8</a>\u001b[0m results_df \u001b[39m=\u001b[39m pd\u001b[39m.\u001b[39;49mDataFrame({\u001b[39m'\u001b[39;49m\u001b[39muser\u001b[39;49m\u001b[39m'\u001b[39;49m: test_data[\u001b[39m'\u001b[39;49m\u001b[39mUser\u001b[39;49m\u001b[39m'\u001b[39;49m], \u001b[39m'\u001b[39;49m\u001b[39mtrue_rating\u001b[39;49m\u001b[39m'\u001b[39;49m: test_data[\u001b[39m'\u001b[39;49m\u001b[39mRate\u001b[39;49m\u001b[39m'\u001b[39;49m], \u001b[39m'\u001b[39;49m\u001b[39mpredict_rating\u001b[39;49m\u001b[39m'\u001b[39;49m: predict_rating})\n\u001b[0;32m     <a href='vscode-notebook-cell:/c%3A/Users/zox/Code/web/2023fall-WebLab/src/collaborative_filtering.ipynb#X12sZmlsZQ%3D%3D?line=9'>10</a>\u001b[0m \u001b[39mprint\u001b[39m(results_df\u001b[39m.\u001b[39mhead())\n",
      "File \u001b[1;32mc:\\Users\\zox\\AppData\\Local\\Programs\\Python\\Python311\\Lib\\site-packages\\pandas\\core\\frame.py:736\u001b[0m, in \u001b[0;36mDataFrame.__init__\u001b[1;34m(self, data, index, columns, dtype, copy)\u001b[0m\n\u001b[0;32m    730\u001b[0m     mgr \u001b[39m=\u001b[39m \u001b[39mself\u001b[39m\u001b[39m.\u001b[39m_init_mgr(\n\u001b[0;32m    731\u001b[0m         data, axes\u001b[39m=\u001b[39m{\u001b[39m\"\u001b[39m\u001b[39mindex\u001b[39m\u001b[39m\"\u001b[39m: index, \u001b[39m\"\u001b[39m\u001b[39mcolumns\u001b[39m\u001b[39m\"\u001b[39m: columns}, dtype\u001b[39m=\u001b[39mdtype, copy\u001b[39m=\u001b[39mcopy\n\u001b[0;32m    732\u001b[0m     )\n\u001b[0;32m    734\u001b[0m \u001b[39melif\u001b[39;00m \u001b[39misinstance\u001b[39m(data, \u001b[39mdict\u001b[39m):\n\u001b[0;32m    735\u001b[0m     \u001b[39m# GH#38939 de facto copy defaults to False only in non-dict cases\u001b[39;00m\n\u001b[1;32m--> 736\u001b[0m     mgr \u001b[39m=\u001b[39m dict_to_mgr(data, index, columns, dtype\u001b[39m=\u001b[39;49mdtype, copy\u001b[39m=\u001b[39;49mcopy, typ\u001b[39m=\u001b[39;49mmanager)\n\u001b[0;32m    737\u001b[0m \u001b[39melif\u001b[39;00m \u001b[39misinstance\u001b[39m(data, ma\u001b[39m.\u001b[39mMaskedArray):\n\u001b[0;32m    738\u001b[0m     \u001b[39mfrom\u001b[39;00m \u001b[39mnumpy\u001b[39;00m\u001b[39m.\u001b[39;00m\u001b[39mma\u001b[39;00m \u001b[39mimport\u001b[39;00m mrecords\n",
      "File \u001b[1;32mc:\\Users\\zox\\AppData\\Local\\Programs\\Python\\Python311\\Lib\\site-packages\\pandas\\core\\internals\\construction.py:503\u001b[0m, in \u001b[0;36mdict_to_mgr\u001b[1;34m(data, index, columns, dtype, typ, copy)\u001b[0m\n\u001b[0;32m    499\u001b[0m     \u001b[39melse\u001b[39;00m:\n\u001b[0;32m    500\u001b[0m         \u001b[39m# dtype check to exclude e.g. range objects, scalars\u001b[39;00m\n\u001b[0;32m    501\u001b[0m         arrays \u001b[39m=\u001b[39m [x\u001b[39m.\u001b[39mcopy() \u001b[39mif\u001b[39;00m \u001b[39mhasattr\u001b[39m(x, \u001b[39m\"\u001b[39m\u001b[39mdtype\u001b[39m\u001b[39m\"\u001b[39m) \u001b[39melse\u001b[39;00m x \u001b[39mfor\u001b[39;00m x \u001b[39min\u001b[39;00m arrays]\n\u001b[1;32m--> 503\u001b[0m \u001b[39mreturn\u001b[39;00m arrays_to_mgr(arrays, columns, index, dtype\u001b[39m=\u001b[39;49mdtype, typ\u001b[39m=\u001b[39;49mtyp, consolidate\u001b[39m=\u001b[39;49mcopy)\n",
      "File \u001b[1;32mc:\\Users\\zox\\AppData\\Local\\Programs\\Python\\Python311\\Lib\\site-packages\\pandas\\core\\internals\\construction.py:114\u001b[0m, in \u001b[0;36marrays_to_mgr\u001b[1;34m(arrays, columns, index, dtype, verify_integrity, typ, consolidate)\u001b[0m\n\u001b[0;32m    111\u001b[0m \u001b[39mif\u001b[39;00m verify_integrity:\n\u001b[0;32m    112\u001b[0m     \u001b[39m# figure out the index, if necessary\u001b[39;00m\n\u001b[0;32m    113\u001b[0m     \u001b[39mif\u001b[39;00m index \u001b[39mis\u001b[39;00m \u001b[39mNone\u001b[39;00m:\n\u001b[1;32m--> 114\u001b[0m         index \u001b[39m=\u001b[39m _extract_index(arrays)\n\u001b[0;32m    115\u001b[0m     \u001b[39melse\u001b[39;00m:\n\u001b[0;32m    116\u001b[0m         index \u001b[39m=\u001b[39m ensure_index(index)\n",
      "File \u001b[1;32mc:\\Users\\zox\\AppData\\Local\\Programs\\Python\\Python311\\Lib\\site-packages\\pandas\\core\\internals\\construction.py:690\u001b[0m, in \u001b[0;36m_extract_index\u001b[1;34m(data)\u001b[0m\n\u001b[0;32m    685\u001b[0m     \u001b[39mif\u001b[39;00m lengths[\u001b[39m0\u001b[39m] \u001b[39m!=\u001b[39m \u001b[39mlen\u001b[39m(index):\n\u001b[0;32m    686\u001b[0m         msg \u001b[39m=\u001b[39m (\n\u001b[0;32m    687\u001b[0m             \u001b[39mf\u001b[39m\u001b[39m\"\u001b[39m\u001b[39marray length \u001b[39m\u001b[39m{\u001b[39;00mlengths[\u001b[39m0\u001b[39m]\u001b[39m}\u001b[39;00m\u001b[39m does not match index \u001b[39m\u001b[39m\"\u001b[39m\n\u001b[0;32m    688\u001b[0m             \u001b[39mf\u001b[39m\u001b[39m\"\u001b[39m\u001b[39mlength \u001b[39m\u001b[39m{\u001b[39;00m\u001b[39mlen\u001b[39m(index)\u001b[39m}\u001b[39;00m\u001b[39m\"\u001b[39m\n\u001b[0;32m    689\u001b[0m         )\n\u001b[1;32m--> 690\u001b[0m         \u001b[39mraise\u001b[39;00m \u001b[39mValueError\u001b[39;00m(msg)\n\u001b[0;32m    691\u001b[0m \u001b[39melse\u001b[39;00m:\n\u001b[0;32m    692\u001b[0m     index \u001b[39m=\u001b[39m default_index(lengths[\u001b[39m0\u001b[39m])\n",
      "\u001b[1;31mValueError\u001b[0m: array length 201903 does not match index length 201904"
     ]
    }
   ],
   "source": [
    "from tqdm.notebook import tqdm\n",
    "predict_rating = []\n",
    "for idx, (user, item, true_rating, time, tag) in tqdm(test_data.iterrows()):\n",
    "    # print(user, item, true_rating, time, tag)\n",
    "    predict_rating.append(predict(user, item, similarity_threshold=0.4, similar_users_num=50))\n",
    "    # print(true_rating, predict_rating)\n",
    "\n",
    "results_df = pd.DataFrame({'user': test_data['User'], 'true_rating': test_data['Rate'], 'predict_rating': predict_rating})\n",
    "\n",
    "print(results_df.head())\n"
   ]
  },
  {
   "cell_type": "code",
   "execution_count": 22,
   "metadata": {},
   "outputs": [
    {
     "name": "stdout",
     "output_type": "stream",
     "text": [
      "Average NDCG score: 0.9595920774270024\n"
     ]
    }
   ],
   "source": [
    "# 助教是这么写的，就很神奇, 但是这样对只有一个项目求ndcg会报错\n",
    "# ndcg_scores = results_df.groupby('user').apply(compute_ndcg)\n",
    "ndcg_scores = results_df[results_df.groupby('user')['user'].transform('count') > 1].groupby('user').apply(compute_ndcg)\n",
    "\n",
    "avg_ndcg = ndcg_scores.mean()\n",
    "print(f\"Average NDCG score: {avg_ndcg}\")"
   ]
  }
 ],
 "metadata": {
  "kernelspec": {
   "display_name": "Python 3",
   "language": "python",
   "name": "python3"
  },
  "language_info": {
   "codemirror_mode": {
    "name": "ipython",
    "version": 3
   },
   "file_extension": ".py",
   "mimetype": "text/x-python",
   "name": "python",
   "nbconvert_exporter": "python",
   "pygments_lexer": "ipython3",
   "version": "3.11.5"
  }
 },
 "nbformat": 4,
 "nbformat_minor": 2
}
