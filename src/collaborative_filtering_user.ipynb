{
 "cells": [
  {
   "cell_type": "code",
   "execution_count": 1,
   "metadata": {},
   "outputs": [],
   "source": [
    "import csv\n",
    "import numpy as np\n",
    "import pandas as pd\n",
    "import matplotlib.pyplot as plt"
   ]
  },
  {
   "cell_type": "code",
   "execution_count": 2,
   "metadata": {},
   "outputs": [
    {
     "name": "stdout",
     "output_type": "stream",
     "text": [
      "User      4419\n",
      "Book      1200\n",
      "Rate         6\n",
      "Time    634776\n",
      "Tag      59960\n",
      "dtype: int64\n",
      "User       1023\n",
      "Movie      1200\n",
      "Rate          6\n",
      "Time     712198\n",
      "Tag      110708\n",
      "dtype: int64\n"
     ]
    }
   ],
   "source": [
    "book_path = '../data/book_score.csv'\n",
    "movie_path = '../data/movie_score.csv'\n",
    "book_df = pd.read_csv(book_path, encoding='utf-8')\n",
    "movie_df = pd.read_csv(movie_path, encoding='utf-8')\n",
    "book_df.head()\n",
    "print(book_df.nunique())\n",
    "print(movie_df.nunique())"
   ]
  },
  {
   "cell_type": "code",
   "execution_count": 3,
   "metadata": {},
   "outputs": [
    {
     "name": "stdout",
     "output_type": "stream",
     "text": [
      "Rate\n",
      "0    233447\n",
      "4    165052\n",
      "5    131574\n",
      "3     92447\n",
      "2     11296\n",
      "1      3438\n",
      "Name: count, dtype: int64\n"
     ]
    }
   ],
   "source": [
    "# print(movie_df[movie_df[\"Rate\"] == 0].nunique())\n",
    "print(book_df[\"Rate\"].value_counts())"
   ]
  },
  {
   "cell_type": "code",
   "execution_count": 4,
   "metadata": {},
   "outputs": [
    {
     "name": "stdout",
     "output_type": "stream",
     "text": [
      "Rate\n",
      "4    203661\n",
      "3    162926\n",
      "5    115492\n",
      "2     32510\n",
      "1      9059\n",
      "Name: count, dtype: int64\n"
     ]
    }
   ],
   "source": [
    "book_df.rename(columns={'Book': 'Item'}, inplace=True)\n",
    "movie_df.rename(columns={'Movie': 'Item'}, inplace=True)\n",
    "\n",
    "book_df.drop(book_df[book_df[\"Rate\"] == 0].index, inplace=True)\n",
    "movie_df.drop(movie_df[movie_df[\"Rate\"] == 0].index, inplace=True)\n",
    "\n",
    "print(movie_df[\"Rate\"].value_counts())"
   ]
  },
  {
   "cell_type": "code",
   "execution_count": 5,
   "metadata": {},
   "outputs": [],
   "source": [
    "from sklearn.model_selection import train_test_split\n",
    "\n",
    "data = movie_df\n",
    "train_data, test_data = train_test_split(data, test_size=0.5, random_state=42)"
   ]
  },
  {
   "cell_type": "code",
   "execution_count": 6,
   "metadata": {},
   "outputs": [
    {
     "data": {
      "text/plain": [
       "User\n",
       "1000068    3.294118\n",
       "1000174    3.246667\n",
       "1000263    2.000000\n",
       "1000905    4.160000\n",
       "1001093    3.706667\n",
       "dtype: float64"
      ]
     },
     "execution_count": 6,
     "metadata": {},
     "output_type": "execute_result"
    }
   ],
   "source": [
    "matrix = train_data.pivot_table(index='User', columns='Item', values='Rate')\n",
    "user_mean = matrix.mean(axis=1)\n",
    "matrix = matrix.subtract(matrix.mean(axis=1), axis=\"rows\")\n",
    "user_mean.head()"
   ]
  },
  {
   "cell_type": "code",
   "execution_count": 7,
   "metadata": {},
   "outputs": [
    {
     "data": {
      "text/html": [
       "<div>\n",
       "<style scoped>\n",
       "    .dataframe tbody tr th:only-of-type {\n",
       "        vertical-align: middle;\n",
       "    }\n",
       "\n",
       "    .dataframe tbody tr th {\n",
       "        vertical-align: top;\n",
       "    }\n",
       "\n",
       "    .dataframe thead th {\n",
       "        text-align: right;\n",
       "    }\n",
       "</style>\n",
       "<table border=\"1\" class=\"dataframe\">\n",
       "  <thead>\n",
       "    <tr style=\"text-align: right;\">\n",
       "      <th>User</th>\n",
       "      <th>1000068</th>\n",
       "      <th>1000174</th>\n",
       "      <th>1000263</th>\n",
       "      <th>1000905</th>\n",
       "      <th>1001093</th>\n",
       "      <th>1002057</th>\n",
       "      <th>1002987</th>\n",
       "      <th>1003080</th>\n",
       "      <th>1004613</th>\n",
       "      <th>1005928</th>\n",
       "      <th>...</th>\n",
       "      <th>36855984</th>\n",
       "      <th>37829070</th>\n",
       "      <th>39742649</th>\n",
       "      <th>42444500</th>\n",
       "      <th>43828497</th>\n",
       "      <th>44605628</th>\n",
       "      <th>45987769</th>\n",
       "      <th>46788722</th>\n",
       "      <th>48190738</th>\n",
       "      <th>48360271</th>\n",
       "    </tr>\n",
       "    <tr>\n",
       "      <th>User</th>\n",
       "      <th></th>\n",
       "      <th></th>\n",
       "      <th></th>\n",
       "      <th></th>\n",
       "      <th></th>\n",
       "      <th></th>\n",
       "      <th></th>\n",
       "      <th></th>\n",
       "      <th></th>\n",
       "      <th></th>\n",
       "      <th></th>\n",
       "      <th></th>\n",
       "      <th></th>\n",
       "      <th></th>\n",
       "      <th></th>\n",
       "      <th></th>\n",
       "      <th></th>\n",
       "      <th></th>\n",
       "      <th></th>\n",
       "      <th></th>\n",
       "      <th></th>\n",
       "    </tr>\n",
       "  </thead>\n",
       "  <tbody>\n",
       "    <tr>\n",
       "      <th>1000068</th>\n",
       "      <td>1.000000</td>\n",
       "      <td>1.000000</td>\n",
       "      <td>NaN</td>\n",
       "      <td>0.828079</td>\n",
       "      <td>0.315264</td>\n",
       "      <td>0.709299</td>\n",
       "      <td>0.369274</td>\n",
       "      <td>0.207514</td>\n",
       "      <td>0.763763</td>\n",
       "      <td>0.880141</td>\n",
       "      <td>...</td>\n",
       "      <td>-5.934392e-17</td>\n",
       "      <td>NaN</td>\n",
       "      <td>NaN</td>\n",
       "      <td>0.615385</td>\n",
       "      <td>NaN</td>\n",
       "      <td>NaN</td>\n",
       "      <td>0.707107</td>\n",
       "      <td>NaN</td>\n",
       "      <td>NaN</td>\n",
       "      <td>NaN</td>\n",
       "    </tr>\n",
       "    <tr>\n",
       "      <th>1000174</th>\n",
       "      <td>1.000000</td>\n",
       "      <td>1.000000</td>\n",
       "      <td>NaN</td>\n",
       "      <td>0.257039</td>\n",
       "      <td>0.227085</td>\n",
       "      <td>0.262536</td>\n",
       "      <td>0.057639</td>\n",
       "      <td>0.386178</td>\n",
       "      <td>0.345861</td>\n",
       "      <td>0.213338</td>\n",
       "      <td>...</td>\n",
       "      <td>4.349962e-01</td>\n",
       "      <td>0.557926</td>\n",
       "      <td>-0.062017</td>\n",
       "      <td>0.524704</td>\n",
       "      <td>0.871421</td>\n",
       "      <td>0.611590</td>\n",
       "      <td>0.264965</td>\n",
       "      <td>NaN</td>\n",
       "      <td>NaN</td>\n",
       "      <td>NaN</td>\n",
       "    </tr>\n",
       "    <tr>\n",
       "      <th>1000263</th>\n",
       "      <td>NaN</td>\n",
       "      <td>NaN</td>\n",
       "      <td>NaN</td>\n",
       "      <td>NaN</td>\n",
       "      <td>NaN</td>\n",
       "      <td>NaN</td>\n",
       "      <td>NaN</td>\n",
       "      <td>NaN</td>\n",
       "      <td>NaN</td>\n",
       "      <td>NaN</td>\n",
       "      <td>...</td>\n",
       "      <td>NaN</td>\n",
       "      <td>NaN</td>\n",
       "      <td>NaN</td>\n",
       "      <td>NaN</td>\n",
       "      <td>NaN</td>\n",
       "      <td>NaN</td>\n",
       "      <td>NaN</td>\n",
       "      <td>NaN</td>\n",
       "      <td>NaN</td>\n",
       "      <td>NaN</td>\n",
       "    </tr>\n",
       "    <tr>\n",
       "      <th>1000905</th>\n",
       "      <td>0.828079</td>\n",
       "      <td>0.257039</td>\n",
       "      <td>NaN</td>\n",
       "      <td>1.000000</td>\n",
       "      <td>0.347644</td>\n",
       "      <td>0.132445</td>\n",
       "      <td>0.312092</td>\n",
       "      <td>0.374112</td>\n",
       "      <td>0.188312</td>\n",
       "      <td>0.251513</td>\n",
       "      <td>...</td>\n",
       "      <td>3.573042e-01</td>\n",
       "      <td>-0.412780</td>\n",
       "      <td>-0.177555</td>\n",
       "      <td>0.435665</td>\n",
       "      <td>0.000000</td>\n",
       "      <td>0.259310</td>\n",
       "      <td>0.196282</td>\n",
       "      <td>NaN</td>\n",
       "      <td>NaN</td>\n",
       "      <td>NaN</td>\n",
       "    </tr>\n",
       "    <tr>\n",
       "      <th>1001093</th>\n",
       "      <td>0.315264</td>\n",
       "      <td>0.227085</td>\n",
       "      <td>NaN</td>\n",
       "      <td>0.347644</td>\n",
       "      <td>1.000000</td>\n",
       "      <td>0.340371</td>\n",
       "      <td>0.411297</td>\n",
       "      <td>0.257495</td>\n",
       "      <td>0.498377</td>\n",
       "      <td>0.226428</td>\n",
       "      <td>...</td>\n",
       "      <td>4.000265e-01</td>\n",
       "      <td>0.165152</td>\n",
       "      <td>-0.210042</td>\n",
       "      <td>0.416306</td>\n",
       "      <td>0.495222</td>\n",
       "      <td>0.377014</td>\n",
       "      <td>0.366416</td>\n",
       "      <td>NaN</td>\n",
       "      <td>-1.0</td>\n",
       "      <td>NaN</td>\n",
       "    </tr>\n",
       "  </tbody>\n",
       "</table>\n",
       "<p>5 rows × 1008 columns</p>\n",
       "</div>"
      ],
      "text/plain": [
       "User     1000068   1000174   1000263   1000905   1001093   1002057   1002987   \\\n",
       "User                                                                            \n",
       "1000068  1.000000  1.000000       NaN  0.828079  0.315264  0.709299  0.369274   \n",
       "1000174  1.000000  1.000000       NaN  0.257039  0.227085  0.262536  0.057639   \n",
       "1000263       NaN       NaN       NaN       NaN       NaN       NaN       NaN   \n",
       "1000905  0.828079  0.257039       NaN  1.000000  0.347644  0.132445  0.312092   \n",
       "1001093  0.315264  0.227085       NaN  0.347644  1.000000  0.340371  0.411297   \n",
       "\n",
       "User     1003080   1004613   1005928   ...      36855984  37829070  39742649  \\\n",
       "User                                   ...                                     \n",
       "1000068  0.207514  0.763763  0.880141  ... -5.934392e-17       NaN       NaN   \n",
       "1000174  0.386178  0.345861  0.213338  ...  4.349962e-01  0.557926 -0.062017   \n",
       "1000263       NaN       NaN       NaN  ...           NaN       NaN       NaN   \n",
       "1000905  0.374112  0.188312  0.251513  ...  3.573042e-01 -0.412780 -0.177555   \n",
       "1001093  0.257495  0.498377  0.226428  ...  4.000265e-01  0.165152 -0.210042   \n",
       "\n",
       "User     42444500  43828497  44605628  45987769  46788722  48190738  48360271  \n",
       "User                                                                           \n",
       "1000068  0.615385       NaN       NaN  0.707107       NaN       NaN       NaN  \n",
       "1000174  0.524704  0.871421  0.611590  0.264965       NaN       NaN       NaN  \n",
       "1000263       NaN       NaN       NaN       NaN       NaN       NaN       NaN  \n",
       "1000905  0.435665  0.000000  0.259310  0.196282       NaN       NaN       NaN  \n",
       "1001093  0.416306  0.495222  0.377014  0.366416       NaN      -1.0       NaN  \n",
       "\n",
       "[5 rows x 1008 columns]"
      ]
     },
     "execution_count": 7,
     "metadata": {},
     "output_type": "execute_result"
    }
   ],
   "source": [
    "user_similarity = matrix.T.corr(method=\"pearson\")\n",
    "user_similarity.head()"
   ]
  },
  {
   "cell_type": "code",
   "execution_count": 8,
   "metadata": {},
   "outputs": [],
   "source": [
    "# use the similarity matrix to predict the user's rating for an item\n",
    "similar_users_storage = dict()\n",
    "\n",
    "\n",
    "def predict(user, item, similarity_threshold=0.5, similar_users_num=30):\n",
    "    if (user not in matrix.index):\n",
    "        return user_mean.mean()\n",
    "\n",
    "    user_rating = matrix.loc[user, item]\n",
    "    if np.isnan(user_rating):\n",
    "\n",
    "        item_rating = matrix[item]\n",
    "        item_rating = item_rating.dropna()\n",
    "\n",
    "        if (similar_users_storage.get(user) is None):\n",
    "            similar_users = user_similarity[user].dropna()\n",
    "            similar_users = similar_users[similar_users > similarity_threshold]\n",
    "            similar_users = similar_users.sort_values(ascending=False)\n",
    "            similar_users_storage[user] = similar_users\n",
    "        else:\n",
    "            similar_users = similar_users_storage[user]\n",
    "\n",
    "        # Only consider similar users who have rated the item\n",
    "        common_users = list(\n",
    "            set(similar_users.index).intersection(set(item_rating.index)))\n",
    "        common_users.sort(key=lambda x: similar_users[x], reverse=True)\n",
    "\n",
    "        common_users = common_users[:similar_users_num if len(common_users) >\n",
    "                                    similar_users_num else len(common_users)]\n",
    "        item_rating = item_rating.loc[common_users]\n",
    "\n",
    "        if len(item_rating) == 0:\n",
    "            return user_mean[user]\n",
    "        else:\n",
    "            return item_rating.mean() + user_mean[user]\n",
    "    else:\n",
    "        return user_rating"
   ]
  },
  {
   "cell_type": "code",
   "execution_count": 9,
   "metadata": {},
   "outputs": [],
   "source": [
    "from sklearn.metrics import ndcg_score\n",
    "\n",
    "\n",
    "def compute_ndcg(group):\n",
    "    true_ratings = group['true_rating'].tolist()\n",
    "    pred_ratings = group['predict_rating'].tolist()\n",
    "    return ndcg_score([true_ratings], [pred_ratings], k=50)"
   ]
  },
  {
   "cell_type": "code",
   "execution_count": 10,
   "metadata": {},
   "outputs": [
    {
     "data": {
      "application/vnd.jupyter.widget-view+json": {
       "model_id": "3797c8bf72cf4fcfbd8a6d5a6a3559af",
       "version_major": 2,
       "version_minor": 0
      },
      "text/plain": [
       "0it [00:00, ?it/s]"
      ]
     },
     "metadata": {},
     "output_type": "display_data"
    },
    {
     "name": "stdout",
     "output_type": "stream",
     "text": [
      "           user  true_rating  predict_rating\n",
      "476771  1391511            4        4.124862\n",
      "214632  1052753            4        4.525523\n",
      "581696  1435341            3        2.454506\n",
      "246040  1935228            5        3.893728\n",
      "194159  1494167            4        4.634479\n"
     ]
    }
   ],
   "source": [
    "from tqdm.notebook import tqdm\n",
    "\n",
    "predict_rating = []\n",
    "for idx, (user, item, true_rating, time, tag) in tqdm(test_data.iterrows()):\n",
    "    # print(user, item, true_rating, time, tag)\n",
    "    predict_rating.append(\n",
    "        predict(user, item, similarity_threshold=0.4, similar_users_num=50))\n",
    "    # print(true_rating, predict_rating)\n",
    "\n",
    "results_df = pd.DataFrame({\n",
    "    'user': test_data['User'],\n",
    "    'true_rating': test_data['Rate'],\n",
    "    'predict_rating': predict_rating\n",
    "})\n",
    "\n",
    "print(results_df.head())\n"
   ]
  },
  {
   "cell_type": "code",
   "execution_count": 11,
   "metadata": {},
   "outputs": [
    {
     "name": "stdout",
     "output_type": "stream",
     "text": [
      "Average NDCG score: 0.9180497961365143\n"
     ]
    }
   ],
   "source": [
    "# 助教是这么写的，就很神奇, 但是这样对只有一个项目求ndcg会报错\n",
    "# ndcg_scores = results_df.groupby('user').apply(compute_ndcg)\n",
    "ndcg_scores = results_df[results_df.groupby('user')['user'].transform('count')\n",
    "                         > 1].groupby('user').apply(compute_ndcg)\n",
    "\n",
    "avg_ndcg = ndcg_scores.mean()\n",
    "print(f\"Average NDCG score: {avg_ndcg}\")"
   ]
  }
 ],
 "metadata": {
  "kernelspec": {
   "display_name": "Python 3",
   "language": "python",
   "name": "python3"
  },
  "language_info": {
   "codemirror_mode": {
    "name": "ipython",
    "version": 3
   },
   "file_extension": ".py",
   "mimetype": "text/x-python",
   "name": "python",
   "nbconvert_exporter": "python",
   "pygments_lexer": "ipython3",
   "version": "3.11.5"
  }
 },
 "nbformat": 4,
 "nbformat_minor": 2
}
